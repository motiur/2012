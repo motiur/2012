{
  "nbformat": 4,
  "nbformat_minor": 0,
  "metadata": {
    "colab": {
      "name": "Untitled5.ipynb",
      "provenance": [],
      "toc_visible": true,
      "authorship_tag": "ABX9TyNdTmDI9zuGzPnkVviUOm10",
      "include_colab_link": true
    },
    "kernelspec": {
      "name": "python3",
      "display_name": "Python 3"
    }
  },
  "cells": [
    {
      "cell_type": "markdown",
      "metadata": {
        "id": "view-in-github",
        "colab_type": "text"
      },
      "source": [
        "<a href=\"https://colab.research.google.com/github/motiur/2012/blob/master/test.ipynb\" target=\"_parent\"><img src=\"https://colab.research.google.com/assets/colab-badge.svg\" alt=\"Open In Colab\"/></a>"
      ]
    },
    {
      "cell_type": "code",
      "metadata": {
        "id": "RfcbLeDYQ5Bh",
        "colab_type": "code",
        "colab": {
          "base_uri": "https://localhost:8080/",
          "height": 35
        },
        "outputId": "915cea29-d94e-4f50-ddaa-20743efb20ec"
      },
      "source": [
        "%%writefile test.cpp\n",
        "\n",
        "//Main function\n",
        "#include <iostream>\n",
        "using namespace std;\n",
        "int main(){\n",
        "    cout<<\"hello\"<<endl;\n",
        "  return 0;\n",
        "}"
      ],
      "execution_count": 1,
      "outputs": [
        {
          "output_type": "stream",
          "text": [
            "Writing test.cpp\n"
          ],
          "name": "stdout"
        }
      ]
    },
    {
      "cell_type": "code",
      "metadata": {
        "id": "EGORyxwJRMjt",
        "colab_type": "code",
        "colab": {
          "base_uri": "https://localhost:8080/",
          "height": 156
        },
        "outputId": "97469213-c0c5-46f2-de33-6d26321ebf45"
      },
      "source": [
        "%%script bash\n",
        "\n",
        "g++ test.cpp -o test\n",
        "./test"
      ],
      "execution_count": 2,
      "outputs": [
        {
          "output_type": "stream",
          "text": [
            "total 32\n",
            "drwxr-xr-x 1 root root 4096 May 29 18:19 sample_data\n",
            "-rwxr-xr-x 1 root root 8920 Jun 11 02:57 test\n",
            "drwxr-xr-x 1 root root 4096 Jun 11 02:57 .\n",
            "drwxr-xr-x 1 root root 4096 Jun 11 02:53 ..\n",
            "drwxr-xr-x 1 root root 4096 Jun  8 16:15 .config\n",
            "-rw-r--r-- 1 root root  108 Jun 11 02:57 test.cpp\n",
            "hello\n"
          ],
          "name": "stdout"
        }
      ]
    },
    {
      "cell_type": "code",
      "metadata": {
        "id": "gEjjbLyCSvVP",
        "colab_type": "code",
        "colab": {}
      },
      "source": [
        ""
      ],
      "execution_count": 0,
      "outputs": []
    }
  ]
}